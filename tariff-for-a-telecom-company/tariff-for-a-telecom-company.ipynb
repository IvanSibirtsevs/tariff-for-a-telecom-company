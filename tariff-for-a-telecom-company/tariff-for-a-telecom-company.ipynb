{
 "cells": [
  {
   "cell_type": "markdown",
   "metadata": {},
   "source": [
    "# Определение перспективного тарифа для телеком компании\n",
    "\n",
    "***Описание проекта***\n",
    "Я аналитик компании «Мегалайн» — федерального оператора сотовой связи. Клиентам предлагают два тарифных плана: «Смарт» и «Ультра». Чтобы скорректировать рекламный бюджет, коммерческий департамент хочет понять, какой тариф приносит больше денег.\n",
    "Мне предстоит сделать предварительный анализ тарифов на небольшой выборке клиентов. В моем распоряжении данные 500 пользователей «Мегалайна»: кто они, откуда, каким тарифом пользуются, сколько звонков и сообщений каждый отправил за 2018 год. Нужно проанализировать поведение клиентов и сделать вывод — какой тариф лучше\n",
    "\n",
    "### Описание тарифов\n",
    "- ***Тариф «Смарт»***\n",
    "- Ежемесячная плата: 550 рублей\n",
    "- Включено 500 минут разговора, 50 сообщений и 15 Гб интернет-трафика\n",
    "- Стоимость услуг сверх тарифного пакета:\n",
    "- минута разговора: 3 рубля\n",
    "- сообщение: 3 рубля\n",
    "- 1 Гб интернет-трафика: 200 рублей\n",
    "- \n",
    "- ***Тариф «Ультра»***\n",
    "- Ежемесячная плата: 1950 рублей\n",
    "- Включено 3000 минут разговора, 1000 сообщений и 30 Гб интернет-трафика\n",
    "- Стоимость услуг сверх тарифного пакета:\n",
    "- минута разговора: 1 рубль\n",
    "- сообщение: 1 рубль\n",
    "- 1 Гб интернет-трафика: 150 рублей\n",
    "\n"
   ]
  },
  {
   "cell_type": "markdown",
   "metadata": {},
   "source": [
    "## Шаг 1. Открыть файл с данными и изучить общую информацию"
   ]
  },
  {
   "cell_type": "code",
   "execution_count": 1,
   "metadata": {},
   "outputs": [],
   "source": [
    "import matplotlib.pyplot as plt\n",
    "import pandas as pd\n",
    "from functools import reduce\n",
    "from scipy import stats as st\n",
    "import numpy as np"
   ]
  },
  {
   "cell_type": "code",
   "execution_count": 2,
   "metadata": {},
   "outputs": [
    {
     "name": "stdout",
     "output_type": "stream",
     "text": [
      "<class 'pandas.core.frame.DataFrame'>\n",
      "RangeIndex: 202607 entries, 0 to 202606\n",
      "Data columns (total 4 columns):\n",
      "id           202607 non-null object\n",
      "call_date    202607 non-null object\n",
      "duration     202607 non-null float64\n",
      "user_id      202607 non-null int64\n",
      "dtypes: float64(1), int64(1), object(2)\n",
      "memory usage: 6.2+ MB\n",
      "<class 'pandas.core.frame.DataFrame'>\n",
      "RangeIndex: 149396 entries, 0 to 149395\n",
      "Data columns (total 5 columns):\n",
      "Unnamed: 0      149396 non-null int64\n",
      "id              149396 non-null object\n",
      "mb_used         149396 non-null float64\n",
      "session_date    149396 non-null object\n",
      "user_id         149396 non-null int64\n",
      "dtypes: float64(1), int64(2), object(2)\n",
      "memory usage: 5.7+ MB\n",
      "<class 'pandas.core.frame.DataFrame'>\n",
      "RangeIndex: 123036 entries, 0 to 123035\n",
      "Data columns (total 3 columns):\n",
      "id              123036 non-null object\n",
      "message_date    123036 non-null object\n",
      "user_id         123036 non-null int64\n",
      "dtypes: int64(1), object(2)\n",
      "memory usage: 2.8+ MB\n",
      "<class 'pandas.core.frame.DataFrame'>\n",
      "RangeIndex: 2 entries, 0 to 1\n",
      "Data columns (total 8 columns):\n",
      "messages_included        2 non-null int64\n",
      "mb_per_month_included    2 non-null int64\n",
      "minutes_included         2 non-null int64\n",
      "rub_monthly_fee          2 non-null int64\n",
      "rub_per_gb               2 non-null int64\n",
      "rub_per_message          2 non-null int64\n",
      "rub_per_minute           2 non-null int64\n",
      "tariff_name              2 non-null object\n",
      "dtypes: int64(7), object(1)\n",
      "memory usage: 256.0+ bytes\n",
      "<class 'pandas.core.frame.DataFrame'>\n",
      "RangeIndex: 500 entries, 0 to 499\n",
      "Data columns (total 8 columns):\n",
      "user_id       500 non-null int64\n",
      "age           500 non-null int64\n",
      "churn_date    38 non-null object\n",
      "city          500 non-null object\n",
      "first_name    500 non-null object\n",
      "last_name     500 non-null object\n",
      "reg_date      500 non-null object\n",
      "tariff        500 non-null object\n",
      "dtypes: int64(2), object(6)\n",
      "memory usage: 31.4+ KB\n"
     ]
    },
    {
     "data": {
      "text/html": [
       "<div>\n",
       "<style scoped>\n",
       "    .dataframe tbody tr th:only-of-type {\n",
       "        vertical-align: middle;\n",
       "    }\n",
       "\n",
       "    .dataframe tbody tr th {\n",
       "        vertical-align: top;\n",
       "    }\n",
       "\n",
       "    .dataframe thead th {\n",
       "        text-align: right;\n",
       "    }\n",
       "</style>\n",
       "<table border=\"1\" class=\"dataframe\">\n",
       "  <thead>\n",
       "    <tr style=\"text-align: right;\">\n",
       "      <th></th>\n",
       "      <th>user_id</th>\n",
       "      <th>age</th>\n",
       "      <th>churn_date</th>\n",
       "      <th>city</th>\n",
       "      <th>first_name</th>\n",
       "      <th>last_name</th>\n",
       "      <th>reg_date</th>\n",
       "      <th>tariff</th>\n",
       "    </tr>\n",
       "  </thead>\n",
       "  <tbody>\n",
       "    <tr>\n",
       "      <td>0</td>\n",
       "      <td>1000</td>\n",
       "      <td>52</td>\n",
       "      <td>NaN</td>\n",
       "      <td>Краснодар</td>\n",
       "      <td>Рафаил</td>\n",
       "      <td>Верещагин</td>\n",
       "      <td>2018-05-25</td>\n",
       "      <td>ultra</td>\n",
       "    </tr>\n",
       "    <tr>\n",
       "      <td>1</td>\n",
       "      <td>1001</td>\n",
       "      <td>41</td>\n",
       "      <td>NaN</td>\n",
       "      <td>Москва</td>\n",
       "      <td>Иван</td>\n",
       "      <td>Ежов</td>\n",
       "      <td>2018-11-01</td>\n",
       "      <td>smart</td>\n",
       "    </tr>\n",
       "    <tr>\n",
       "      <td>2</td>\n",
       "      <td>1002</td>\n",
       "      <td>59</td>\n",
       "      <td>NaN</td>\n",
       "      <td>Стерлитамак</td>\n",
       "      <td>Евгений</td>\n",
       "      <td>Абрамович</td>\n",
       "      <td>2018-06-17</td>\n",
       "      <td>smart</td>\n",
       "    </tr>\n",
       "    <tr>\n",
       "      <td>3</td>\n",
       "      <td>1003</td>\n",
       "      <td>23</td>\n",
       "      <td>NaN</td>\n",
       "      <td>Москва</td>\n",
       "      <td>Белла</td>\n",
       "      <td>Белякова</td>\n",
       "      <td>2018-08-17</td>\n",
       "      <td>ultra</td>\n",
       "    </tr>\n",
       "    <tr>\n",
       "      <td>4</td>\n",
       "      <td>1004</td>\n",
       "      <td>68</td>\n",
       "      <td>NaN</td>\n",
       "      <td>Новокузнецк</td>\n",
       "      <td>Татьяна</td>\n",
       "      <td>Авдеенко</td>\n",
       "      <td>2018-05-14</td>\n",
       "      <td>ultra</td>\n",
       "    </tr>\n",
       "    <tr>\n",
       "      <td>...</td>\n",
       "      <td>...</td>\n",
       "      <td>...</td>\n",
       "      <td>...</td>\n",
       "      <td>...</td>\n",
       "      <td>...</td>\n",
       "      <td>...</td>\n",
       "      <td>...</td>\n",
       "      <td>...</td>\n",
       "    </tr>\n",
       "    <tr>\n",
       "      <td>495</td>\n",
       "      <td>1495</td>\n",
       "      <td>65</td>\n",
       "      <td>NaN</td>\n",
       "      <td>Иркутск</td>\n",
       "      <td>Авксентий</td>\n",
       "      <td>Фокин</td>\n",
       "      <td>2018-08-28</td>\n",
       "      <td>ultra</td>\n",
       "    </tr>\n",
       "    <tr>\n",
       "      <td>496</td>\n",
       "      <td>1496</td>\n",
       "      <td>36</td>\n",
       "      <td>NaN</td>\n",
       "      <td>Вологда</td>\n",
       "      <td>Трифон</td>\n",
       "      <td>Блохин</td>\n",
       "      <td>2018-01-27</td>\n",
       "      <td>smart</td>\n",
       "    </tr>\n",
       "    <tr>\n",
       "      <td>497</td>\n",
       "      <td>1497</td>\n",
       "      <td>32</td>\n",
       "      <td>NaN</td>\n",
       "      <td>Челябинск</td>\n",
       "      <td>Каролина</td>\n",
       "      <td>Агеева</td>\n",
       "      <td>2018-10-09</td>\n",
       "      <td>smart</td>\n",
       "    </tr>\n",
       "    <tr>\n",
       "      <td>498</td>\n",
       "      <td>1498</td>\n",
       "      <td>68</td>\n",
       "      <td>2018-10-25</td>\n",
       "      <td>Владикавказ</td>\n",
       "      <td>Всеволод</td>\n",
       "      <td>Акимчин</td>\n",
       "      <td>2018-07-19</td>\n",
       "      <td>smart</td>\n",
       "    </tr>\n",
       "    <tr>\n",
       "      <td>499</td>\n",
       "      <td>1499</td>\n",
       "      <td>35</td>\n",
       "      <td>NaN</td>\n",
       "      <td>Пермь</td>\n",
       "      <td>Гектор</td>\n",
       "      <td>Корнилов</td>\n",
       "      <td>2018-09-27</td>\n",
       "      <td>smart</td>\n",
       "    </tr>\n",
       "  </tbody>\n",
       "</table>\n",
       "<p>500 rows × 8 columns</p>\n",
       "</div>"
      ],
      "text/plain": [
       "     user_id  age  churn_date         city first_name  last_name    reg_date  \\\n",
       "0       1000   52         NaN    Краснодар     Рафаил  Верещагин  2018-05-25   \n",
       "1       1001   41         NaN       Москва       Иван       Ежов  2018-11-01   \n",
       "2       1002   59         NaN  Стерлитамак    Евгений  Абрамович  2018-06-17   \n",
       "3       1003   23         NaN       Москва      Белла   Белякова  2018-08-17   \n",
       "4       1004   68         NaN  Новокузнецк    Татьяна   Авдеенко  2018-05-14   \n",
       "..       ...  ...         ...          ...        ...        ...         ...   \n",
       "495     1495   65         NaN      Иркутск  Авксентий      Фокин  2018-08-28   \n",
       "496     1496   36         NaN      Вологда     Трифон     Блохин  2018-01-27   \n",
       "497     1497   32         NaN    Челябинск   Каролина     Агеева  2018-10-09   \n",
       "498     1498   68  2018-10-25  Владикавказ   Всеволод    Акимчин  2018-07-19   \n",
       "499     1499   35         NaN        Пермь     Гектор   Корнилов  2018-09-27   \n",
       "\n",
       "    tariff  \n",
       "0    ultra  \n",
       "1    smart  \n",
       "2    smart  \n",
       "3    ultra  \n",
       "4    ultra  \n",
       "..     ...  \n",
       "495  ultra  \n",
       "496  smart  \n",
       "497  smart  \n",
       "498  smart  \n",
       "499  smart  \n",
       "\n",
       "[500 rows x 8 columns]"
      ]
     },
     "metadata": {},
     "output_type": "display_data"
    }
   ],
   "source": [
    "calls = pd.read_csv(\"/datasets/calls.csv\")\n",
    "internet = pd.read_csv(\"/datasets/internet.csv\")\n",
    "messages = pd.read_csv(\"/datasets/messages.csv\")\n",
    "tariffs = pd.read_csv(\"/datasets/tariffs.csv\")\n",
    "users = pd.read_csv(\"/datasets/users.csv\")\n",
    "calls.info()\n",
    "internet.info()\n",
    "messages.info()\n",
    "tariffs.info()\n",
    "users.info()\n",
    "display(users)"
   ]
  },
  {
   "cell_type": "markdown",
   "metadata": {},
   "source": [
    "## Шаг 2. Подготовка данных"
   ]
  },
  {
   "cell_type": "markdown",
   "metadata": {},
   "source": [
    "***Замена типа данных***"
   ]
  },
  {
   "cell_type": "code",
   "execution_count": 3,
   "metadata": {},
   "outputs": [],
   "source": [
    "calls['call_date'] = pd.to_datetime(calls['call_date'], format= '%Y-%m-%d') # Замена типа значения на datetime64\n",
    "\n",
    "del internet['Unnamed: 0']\n",
    "internet['session_date'] = pd.to_datetime(internet['session_date'], format= '%Y-%m-%d') # Замена типа значения на datetime64\n",
    "\n",
    "messages['message_date'] = pd.to_datetime(messages['message_date'], format= '%Y-%m-%d') # Замена типа значения на datetime64\n",
    "\n",
    "users['churn_date'] = pd.to_datetime(users['churn_date'], format= '%Y-%m-%d') # Замена типа значения на datetime64\n",
    "users['reg_date'] = pd.to_datetime(users['reg_date'], format= '%Y-%m-%d') # Замена типа значения на datetime64\n"
   ]
  },
  {
   "cell_type": "markdown",
   "metadata": {},
   "source": [
    "***Исправление ошибок в Дата сете***"
   ]
  },
  {
   "cell_type": "code",
   "execution_count": 4,
   "metadata": {
    "scrolled": false
   },
   "outputs": [
    {
     "name": "stdout",
     "output_type": "stream",
     "text": [
      "0.0    39613\n",
      "Name: duration, dtype: int64\n"
     ]
    },
    {
     "data": {
      "text/plain": [
       "Text(0.5, 1.0, 'Зависимость нулевых звонков от общего количства ')"
      ]
     },
     "execution_count": 4,
     "metadata": {},
     "output_type": "execute_result"
    },
    {
     "data": {
      "image/png": "[encoded data removed]",
      "text/plain": [
       "<Figure size 864x360 with 1 Axes>"
      ]
     },
     "metadata": {
      "needs_background": "light"
     },
     "output_type": "display_data"
    }
   ],
   "source": [
    "calls['month'] = pd.DatetimeIndex(calls['call_date']).month # добавим столбец со значением месяца\n",
    "# Количество звонков с длительностью, равной нулю\n",
    "ziro = calls.loc[calls['duration'] == 0]\n",
    "print(ziro['duration'].value_counts())\n",
    "\n",
    "# График зависемости количества звонков и нуливых значений \n",
    "calls.loc[calls['duration'] == 0, 'nulls_count'] = 1\n",
    "null_calls = calls.pivot_table(index='month', values=['id', 'nulls_count'], aggfunc='count')\n",
    "\n",
    "null_calls.pivot_table(index='id', values='nulls_count').plot(grid=True, figsize=(12, 5))\n",
    "plt.xlabel('Количество звонков ')\n",
    "plt.ylabel('Звонки длительнотью 0')\n",
    "plt.title('Зависимость нулевых звонков от общего количства ')"
   ]
  },
  {
   "cell_type": "markdown",
   "metadata": {},
   "source": [
    "\n",
    "Появление нулевых звонков сичтематично. Все значения округляем в большую сторону."
   ]
  },
  {
   "cell_type": "code",
   "execution_count": 5,
   "metadata": {},
   "outputs": [],
   "source": [
    "calls.loc[(calls['duration'] == 0)] = 1"
   ]
  },
  {
   "cell_type": "code",
   "execution_count": 6,
   "metadata": {},
   "outputs": [
    {
     "name": "stdout",
     "output_type": "stream",
     "text": [
      "0.0    19598\n",
      "Name: mb_used, dtype: int64\n"
     ]
    },
    {
     "data": {
      "text/plain": [
       "Text(0.5, 1.0, 'Зависимость нулевых значений от общего количства ')"
      ]
     },
     "execution_count": 6,
     "metadata": {},
     "output_type": "execute_result"
    },
    {
     "data": {
      "image/png": "[encoded data removed]",
      "text/plain": [
       "<Figure size 864x360 with 1 Axes>"
      ]
     },
     "metadata": {
      "needs_background": "light"
     },
     "output_type": "display_data"
    }
   ],
   "source": [
    "internet['month'] = pd.DatetimeIndex(internet['session_date']).month # добавим столбец со значением месяца\n",
    "# Количество трафика с длительностью, равной нулю\n",
    "ziro = internet.loc[internet['mb_used'] == 0]\n",
    "print(ziro['mb_used'].value_counts())\n",
    "\n",
    "# График зависемости количества трафика и нуливых значений \n",
    "internet.loc[internet['mb_used'] == 0, 'nulls_count'] = 1\n",
    "null_internet = internet.pivot_table(index='month', values=['id', 'nulls_count'], aggfunc='count')\n",
    "\n",
    "null_internet.pivot_table(index='id', values='nulls_count').plot(grid=True, figsize=(12, 5))\n",
    "plt.xlabel('Количество заходов в интерент ')\n",
    "plt.ylabel('Сессия длительностью 0')\n",
    "plt.title('Зависимость нулевых значений от общего количства ')"
   ]
  },
  {
   "cell_type": "code",
   "execution_count": 7,
   "metadata": {},
   "outputs": [],
   "source": [
    "# Все так-же как с звонками\n",
    "internet.loc[(internet['mb_used'] == 0)] = 1"
   ]
  },
  {
   "cell_type": "markdown",
   "metadata": {},
   "source": [
    "***Значения для каждого пользователя***"
   ]
  },
  {
   "cell_type": "code",
   "execution_count": 8,
   "metadata": {},
   "outputs": [],
   "source": [
    "# Сводая таблица звонков\n",
    "calls_users = calls.merge(users, on='user_id', how='inner')\n",
    "\n",
    "calls_group = calls_users.pivot_table(values=['first_name', 'duration'], index=['user_id', 'month'], \n",
    "                       aggfunc={'first_name': 'count', 'duration': 'sum'})\n",
    "calls_group.columns = ['duration', 'calls']\n",
    "\n",
    "\n",
    "# Сводая таблица сообщений\n",
    "messages['month'] = pd.DatetimeIndex(messages['message_date']).month # добавим столбец со значением месяца\n",
    "messages_users = messages.merge(users, on='user_id', how='inner')\n",
    "\n",
    "messages_group = messages_users.pivot_table(values='first_name', index=['user_id', 'month'], \n",
    "                       aggfunc={'first_name': 'count'})\n",
    "messages_group.columns = ['messages']\n",
    "\n",
    "\n",
    "# сводная таблица интернет\n",
    "internet_users = internet.merge(users, on='user_id', how='inner')\n",
    "\n",
    "internet_group = internet_users.pivot_table(values=['first_name', 'mb_used'], index=['user_id', 'month'], \n",
    "                       aggfunc={'first_name': 'count', 'mb_used': 'sum'})\n",
    "internet_group.columns = ['mb_used', 'internet']\n"
   ]
  },
  {
   "cell_type": "code",
   "execution_count": 9,
   "metadata": {},
   "outputs": [
    {
     "data": {
      "text/html": [
       "<div>\n",
       "<style scoped>\n",
       "    .dataframe tbody tr th:only-of-type {\n",
       "        vertical-align: middle;\n",
       "    }\n",
       "\n",
       "    .dataframe tbody tr th {\n",
       "        vertical-align: top;\n",
       "    }\n",
       "\n",
       "    .dataframe thead th {\n",
       "        text-align: right;\n",
       "    }\n",
       "</style>\n",
       "<table border=\"1\" class=\"dataframe\">\n",
       "  <thead>\n",
       "    <tr style=\"text-align: right;\">\n",
       "      <th></th>\n",
       "      <th></th>\n",
       "      <th>mb_used</th>\n",
       "      <th>internet</th>\n",
       "      <th>duration</th>\n",
       "      <th>calls</th>\n",
       "      <th>messages</th>\n",
       "    </tr>\n",
       "    <tr>\n",
       "      <th>user_id</th>\n",
       "      <th>month</th>\n",
       "      <th></th>\n",
       "      <th></th>\n",
       "      <th></th>\n",
       "      <th></th>\n",
       "      <th></th>\n",
       "    </tr>\n",
       "  </thead>\n",
       "  <tbody>\n",
       "    <tr>\n",
       "      <td rowspan=\"5\" valign=\"top\">1000</td>\n",
       "      <td>5</td>\n",
       "      <td>4.0</td>\n",
       "      <td>2253.49</td>\n",
       "      <td>150.06</td>\n",
       "      <td>17.0</td>\n",
       "      <td>22.0</td>\n",
       "    </tr>\n",
       "    <tr>\n",
       "      <td>6</td>\n",
       "      <td>44.0</td>\n",
       "      <td>23233.77</td>\n",
       "      <td>158.90</td>\n",
       "      <td>28.0</td>\n",
       "      <td>60.0</td>\n",
       "    </tr>\n",
       "    <tr>\n",
       "      <td>7</td>\n",
       "      <td>28.0</td>\n",
       "      <td>14003.64</td>\n",
       "      <td>318.80</td>\n",
       "      <td>41.0</td>\n",
       "      <td>75.0</td>\n",
       "    </tr>\n",
       "    <tr>\n",
       "      <td>8</td>\n",
       "      <td>27.0</td>\n",
       "      <td>14055.93</td>\n",
       "      <td>389.87</td>\n",
       "      <td>42.0</td>\n",
       "      <td>81.0</td>\n",
       "    </tr>\n",
       "    <tr>\n",
       "      <td>9</td>\n",
       "      <td>25.0</td>\n",
       "      <td>14568.91</td>\n",
       "      <td>440.14</td>\n",
       "      <td>46.0</td>\n",
       "      <td>57.0</td>\n",
       "    </tr>\n",
       "    <tr>\n",
       "      <td>...</td>\n",
       "      <td>...</td>\n",
       "      <td>...</td>\n",
       "      <td>...</td>\n",
       "      <td>...</td>\n",
       "      <td>...</td>\n",
       "      <td>...</td>\n",
       "    </tr>\n",
       "    <tr>\n",
       "      <td>1273</td>\n",
       "      <td>12</td>\n",
       "      <td>NaN</td>\n",
       "      <td>NaN</td>\n",
       "      <td>241.59</td>\n",
       "      <td>38.0</td>\n",
       "      <td>39.0</td>\n",
       "    </tr>\n",
       "    <tr>\n",
       "      <td>1365</td>\n",
       "      <td>10</td>\n",
       "      <td>NaN</td>\n",
       "      <td>NaN</td>\n",
       "      <td>40.85</td>\n",
       "      <td>5.0</td>\n",
       "      <td>1.0</td>\n",
       "    </tr>\n",
       "    <tr>\n",
       "      <td>1377</td>\n",
       "      <td>2</td>\n",
       "      <td>NaN</td>\n",
       "      <td>NaN</td>\n",
       "      <td>168.55</td>\n",
       "      <td>20.0</td>\n",
       "      <td>2.0</td>\n",
       "    </tr>\n",
       "    <tr>\n",
       "      <td>1392</td>\n",
       "      <td>2</td>\n",
       "      <td>NaN</td>\n",
       "      <td>NaN</td>\n",
       "      <td>11.96</td>\n",
       "      <td>2.0</td>\n",
       "      <td>3.0</td>\n",
       "    </tr>\n",
       "    <tr>\n",
       "      <td>1446</td>\n",
       "      <td>8</td>\n",
       "      <td>NaN</td>\n",
       "      <td>NaN</td>\n",
       "      <td>46.98</td>\n",
       "      <td>4.0</td>\n",
       "      <td>1.0</td>\n",
       "    </tr>\n",
       "  </tbody>\n",
       "</table>\n",
       "<p>3214 rows × 5 columns</p>\n",
       "</div>"
      ],
      "text/plain": [
       "               mb_used  internet  duration  calls  messages\n",
       "user_id month                                              \n",
       "1000    5          4.0   2253.49    150.06   17.0      22.0\n",
       "        6         44.0  23233.77    158.90   28.0      60.0\n",
       "        7         28.0  14003.64    318.80   41.0      75.0\n",
       "        8         27.0  14055.93    389.87   42.0      81.0\n",
       "        9         25.0  14568.91    440.14   46.0      57.0\n",
       "...                ...       ...       ...    ...       ...\n",
       "1273    12         NaN       NaN    241.59   38.0      39.0\n",
       "1365    10         NaN       NaN     40.85    5.0       1.0\n",
       "1377    2          NaN       NaN    168.55   20.0       2.0\n",
       "1392    2          NaN       NaN     11.96    2.0       3.0\n",
       "1446    8          NaN       NaN     46.98    4.0       1.0\n",
       "\n",
       "[3214 rows x 5 columns]"
      ]
     },
     "execution_count": 9,
     "metadata": {},
     "output_type": "execute_result"
    }
   ],
   "source": [
    "final_data = internet_group.merge(calls_group,on=['user_id', 'month'], how='outer')\n",
    "final_data = final_data.merge(messages_group,on=['user_id', 'month'], how='outer')\n",
    "final_data"
   ]
  },
  {
   "cell_type": "code",
   "execution_count": 10,
   "metadata": {},
   "outputs": [
    {
     "name": "stdout",
     "output_type": "stream",
     "text": [
      "Количество клиентов: 498\n"
     ]
    }
   ],
   "source": [
    "print(f'Количество клиентов: {final_data.reset_index().user_id.nunique()}')"
   ]
  },
  {
   "cell_type": "code",
   "execution_count": 11,
   "metadata": {},
   "outputs": [
    {
     "data": {
      "text/html": [
       "<div>\n",
       "<style scoped>\n",
       "    .dataframe tbody tr th:only-of-type {\n",
       "        vertical-align: middle;\n",
       "    }\n",
       "\n",
       "    .dataframe tbody tr th {\n",
       "        vertical-align: top;\n",
       "    }\n",
       "\n",
       "    .dataframe thead th {\n",
       "        text-align: right;\n",
       "    }\n",
       "</style>\n",
       "<table border=\"1\" class=\"dataframe\">\n",
       "  <thead>\n",
       "    <tr style=\"text-align: right;\">\n",
       "      <th></th>\n",
       "      <th></th>\n",
       "      <th>mb_used</th>\n",
       "      <th>internet</th>\n",
       "      <th>duration</th>\n",
       "      <th>calls</th>\n",
       "      <th>messages</th>\n",
       "      <th>tariff</th>\n",
       "    </tr>\n",
       "    <tr>\n",
       "      <th>user_id</th>\n",
       "      <th>month</th>\n",
       "      <th></th>\n",
       "      <th></th>\n",
       "      <th></th>\n",
       "      <th></th>\n",
       "      <th></th>\n",
       "      <th></th>\n",
       "    </tr>\n",
       "  </thead>\n",
       "  <tbody>\n",
       "    <tr>\n",
       "      <td rowspan=\"5\" valign=\"top\">1000</td>\n",
       "      <td>5</td>\n",
       "      <td>4.0</td>\n",
       "      <td>2253.49</td>\n",
       "      <td>150.06</td>\n",
       "      <td>17.0</td>\n",
       "      <td>22.0</td>\n",
       "      <td>ultra</td>\n",
       "    </tr>\n",
       "    <tr>\n",
       "      <td>6</td>\n",
       "      <td>44.0</td>\n",
       "      <td>23233.77</td>\n",
       "      <td>158.90</td>\n",
       "      <td>28.0</td>\n",
       "      <td>60.0</td>\n",
       "      <td>ultra</td>\n",
       "    </tr>\n",
       "    <tr>\n",
       "      <td>7</td>\n",
       "      <td>28.0</td>\n",
       "      <td>14003.64</td>\n",
       "      <td>318.80</td>\n",
       "      <td>41.0</td>\n",
       "      <td>75.0</td>\n",
       "      <td>ultra</td>\n",
       "    </tr>\n",
       "    <tr>\n",
       "      <td>8</td>\n",
       "      <td>27.0</td>\n",
       "      <td>14055.93</td>\n",
       "      <td>389.87</td>\n",
       "      <td>42.0</td>\n",
       "      <td>81.0</td>\n",
       "      <td>ultra</td>\n",
       "    </tr>\n",
       "    <tr>\n",
       "      <td>9</td>\n",
       "      <td>25.0</td>\n",
       "      <td>14568.91</td>\n",
       "      <td>440.14</td>\n",
       "      <td>46.0</td>\n",
       "      <td>57.0</td>\n",
       "      <td>ultra</td>\n",
       "    </tr>\n",
       "    <tr>\n",
       "      <td>...</td>\n",
       "      <td>...</td>\n",
       "      <td>...</td>\n",
       "      <td>...</td>\n",
       "      <td>...</td>\n",
       "      <td>...</td>\n",
       "      <td>...</td>\n",
       "      <td>...</td>\n",
       "    </tr>\n",
       "    <tr>\n",
       "      <td>1273</td>\n",
       "      <td>12</td>\n",
       "      <td>0.0</td>\n",
       "      <td>NaN</td>\n",
       "      <td>241.59</td>\n",
       "      <td>38.0</td>\n",
       "      <td>39.0</td>\n",
       "      <td>ultra</td>\n",
       "    </tr>\n",
       "    <tr>\n",
       "      <td>1365</td>\n",
       "      <td>10</td>\n",
       "      <td>0.0</td>\n",
       "      <td>NaN</td>\n",
       "      <td>40.85</td>\n",
       "      <td>5.0</td>\n",
       "      <td>1.0</td>\n",
       "      <td>smart</td>\n",
       "    </tr>\n",
       "    <tr>\n",
       "      <td>1377</td>\n",
       "      <td>2</td>\n",
       "      <td>0.0</td>\n",
       "      <td>NaN</td>\n",
       "      <td>168.55</td>\n",
       "      <td>20.0</td>\n",
       "      <td>2.0</td>\n",
       "      <td>ultra</td>\n",
       "    </tr>\n",
       "    <tr>\n",
       "      <td>1392</td>\n",
       "      <td>2</td>\n",
       "      <td>0.0</td>\n",
       "      <td>NaN</td>\n",
       "      <td>11.96</td>\n",
       "      <td>2.0</td>\n",
       "      <td>3.0</td>\n",
       "      <td>ultra</td>\n",
       "    </tr>\n",
       "    <tr>\n",
       "      <td>1446</td>\n",
       "      <td>8</td>\n",
       "      <td>0.0</td>\n",
       "      <td>NaN</td>\n",
       "      <td>46.98</td>\n",
       "      <td>4.0</td>\n",
       "      <td>1.0</td>\n",
       "      <td>smart</td>\n",
       "    </tr>\n",
       "  </tbody>\n",
       "</table>\n",
       "<p>3214 rows × 6 columns</p>\n",
       "</div>"
      ],
      "text/plain": [
       "               mb_used  internet  duration  calls  messages tariff\n",
       "user_id month                                                     \n",
       "1000    5          4.0   2253.49    150.06   17.0      22.0  ultra\n",
       "        6         44.0  23233.77    158.90   28.0      60.0  ultra\n",
       "        7         28.0  14003.64    318.80   41.0      75.0  ultra\n",
       "        8         27.0  14055.93    389.87   42.0      81.0  ultra\n",
       "        9         25.0  14568.91    440.14   46.0      57.0  ultra\n",
       "...                ...       ...       ...    ...       ...    ...\n",
       "1273    12         0.0       NaN    241.59   38.0      39.0  ultra\n",
       "1365    10         0.0       NaN     40.85    5.0       1.0  smart\n",
       "1377    2          0.0       NaN    168.55   20.0       2.0  ultra\n",
       "1392    2          0.0       NaN     11.96    2.0       3.0  ultra\n",
       "1446    8          0.0       NaN     46.98    4.0       1.0  smart\n",
       "\n",
       "[3214 rows x 6 columns]"
      ]
     },
     "metadata": {},
     "output_type": "display_data"
    }
   ],
   "source": [
    "# замена прощеных значенй на нули\n",
    "final_data.loc[final_data['duration'].isna(), 'duration'] = 0\n",
    "final_data.loc[final_data['messages'].isna(), 'messages'] = 0\n",
    "final_data.loc[final_data['mb_used'].isna(), 'mb_used'] = 0\n",
    "\n",
    "# Добавление тарифа\n",
    "for user in final_data.index:\n",
    "    final_data.loc[user, 'tariff'] = users.loc[user[0]-1000, 'tariff']\n",
    "display(final_data)"
   ]
  },
  {
   "cell_type": "code",
   "execution_count": 12,
   "metadata": {},
   "outputs": [],
   "source": [
    "'''\n",
    "\n",
    "Функция возвращает сколько компаня имеет с каждого пользователя по значениям \n",
    "\n",
    "messages, mb_used, tariff, duration используя правила:\n",
    "\n",
    "Вычтем бесплатный лимит из всех, сообщений и интернет-трафика и звонков.\n",
    "\n",
    "остаток свыше лимита умножим на значения из тарифного плана.\n",
    "\n",
    "После прибавим абонентскую плату.\n",
    "\n",
    "'''\n",
    "def user_pay(row):\n",
    "    messages = row['messages']\n",
    "    mb_used = row['mb_used']\n",
    "    tariff = row['tariff']\n",
    "    duration = row['duration']\n",
    "    \n",
    "    if tariff == 'smart':\n",
    "        extra_duration = duration - tariffs.loc[0, 'minutes_included']\n",
    "        extra_mb = mb_used - tariffs.loc[0, 'mb_per_month_included']\n",
    "        extra_messages = messages - tariffs.loc[0, 'messages_included']\n",
    "        \n",
    "        if extra_duration < 0:\n",
    "            extra_duration = 0\n",
    "        if extra_mb < 0:\n",
    "            extra_mb = 0\n",
    "        if extra_messages < 0:\n",
    "            extra_messages = 0\n",
    "        \n",
    "        mes1 = tariffs.loc[0, 'rub_per_message'] * extra_messages\n",
    "        traf1 = (tariffs.loc[0, 'rub_per_gb'] / 1024) * extra_mb\n",
    "        min1 = tariffs.loc[0, 'rub_per_minute'] * extra_duration\n",
    "        \n",
    "        return mes1 + traf1 + min1 + tariffs.loc[0, 'rub_monthly_fee']\n",
    "                  \n",
    "    else:\n",
    "        extra_duration = duration - tariffs.loc[1, 'minutes_included']\n",
    "        extra_mb = mb_used - tariffs.loc[1, 'mb_per_month_included']\n",
    "        extra_messages = messages - tariffs.loc[1, 'messages_included']\n",
    "                \n",
    "        if extra_duration < 0:\n",
    "            extra_duration = 0\n",
    "        if extra_mb < 0:\n",
    "            extra_mb = 0\n",
    "        if extra_messages < 0:\n",
    "            extra_messages = 0\n",
    "        \n",
    "        mes2 = tariffs.loc[1, 'rub_per_message'] * extra_messages\n",
    "        traf2 = (tariffs.loc[1, 'rub_per_gb'] / 1024) * extra_mb\n",
    "        min2 = tariffs.loc[1, 'rub_per_minute'] * extra_duration\n",
    "        \n",
    "        return mes2 + traf2 + min2 + tariffs.loc[1, 'rub_monthly_fee']\n",
    "                  \n",
    "\n",
    "final_data['user_pays'] = final_data.apply(user_pay, axis=1)"
   ]
  },
  {
   "cell_type": "markdown",
   "metadata": {},
   "source": [
    "## Шаг 3. Анализ данных"
   ]
  },
  {
   "cell_type": "code",
   "execution_count": 13,
   "metadata": {},
   "outputs": [
    {
     "data": {
      "text/html": [
       "<div>\n",
       "<style scoped>\n",
       "    .dataframe tbody tr th:only-of-type {\n",
       "        vertical-align: middle;\n",
       "    }\n",
       "\n",
       "    .dataframe tbody tr th {\n",
       "        vertical-align: top;\n",
       "    }\n",
       "\n",
       "    .dataframe thead th {\n",
       "        text-align: right;\n",
       "    }\n",
       "</style>\n",
       "<table border=\"1\" class=\"dataframe\">\n",
       "  <thead>\n",
       "    <tr style=\"text-align: right;\">\n",
       "      <th></th>\n",
       "      <th>duration</th>\n",
       "      <th>mb_used</th>\n",
       "      <th>messages</th>\n",
       "      <th>user_pays</th>\n",
       "      <th>tariff</th>\n",
       "    </tr>\n",
       "    <tr>\n",
       "      <th>user_id</th>\n",
       "      <th></th>\n",
       "      <th></th>\n",
       "      <th></th>\n",
       "      <th></th>\n",
       "      <th></th>\n",
       "    </tr>\n",
       "  </thead>\n",
       "  <tbody>\n",
       "    <tr>\n",
       "      <td>1000</td>\n",
       "      <td>318.920</td>\n",
       "      <td>26.0</td>\n",
       "      <td>65.0</td>\n",
       "      <td>1950.0</td>\n",
       "      <td>ultra</td>\n",
       "    </tr>\n",
       "    <tr>\n",
       "      <td>1001</td>\n",
       "      <td>399.730</td>\n",
       "      <td>41.0</td>\n",
       "      <td>0.0</td>\n",
       "      <td>550.0</td>\n",
       "      <td>smart</td>\n",
       "    </tr>\n",
       "    <tr>\n",
       "      <td>1002</td>\n",
       "      <td>204.750</td>\n",
       "      <td>44.0</td>\n",
       "      <td>11.0</td>\n",
       "      <td>550.0</td>\n",
       "      <td>smart</td>\n",
       "    </tr>\n",
       "    <tr>\n",
       "      <td>1003</td>\n",
       "      <td>775.390</td>\n",
       "      <td>21.0</td>\n",
       "      <td>83.0</td>\n",
       "      <td>1950.0</td>\n",
       "      <td>ultra</td>\n",
       "    </tr>\n",
       "    <tr>\n",
       "      <td>1004</td>\n",
       "      <td>123.935</td>\n",
       "      <td>33.0</td>\n",
       "      <td>154.5</td>\n",
       "      <td>1950.0</td>\n",
       "      <td>ultra</td>\n",
       "    </tr>\n",
       "  </tbody>\n",
       "</table>\n",
       "</div>"
      ],
      "text/plain": [
       "         duration  mb_used  messages  user_pays tariff\n",
       "user_id                                               \n",
       "1000      318.920     26.0      65.0     1950.0  ultra\n",
       "1001      399.730     41.0       0.0      550.0  smart\n",
       "1002      204.750     44.0      11.0      550.0  smart\n",
       "1003      775.390     21.0      83.0     1950.0  ultra\n",
       "1004      123.935     33.0     154.5     1950.0  ultra"
      ]
     },
     "execution_count": 13,
     "metadata": {},
     "output_type": "execute_result"
    }
   ],
   "source": [
    "# Сколько в среднем нужно каждому пользователю сообщенй, интернета и звонков \n",
    "median_found = final_data.pivot_table(index='user_id', values=['duration', 'messages', 'mb_used', 'user_pays'], aggfunc='median')\n",
    "for user_id in users['user_id']:\n",
    "    median_found.loc[user_id, 'tariff'] = users.loc[user_id-1000, 'tariff']\n",
    "median_found.head()\n"
   ]
  },
  {
   "cell_type": "code",
   "execution_count": 14,
   "metadata": {},
   "outputs": [
    {
     "name": "stdout",
     "output_type": "stream",
     "text": [
      "duration      506.9225\n",
      "mb_used        37.0000\n",
      "messages       47.5000\n",
      "user_pays    1950.0000\n",
      "dtype: float64\n",
      "duration     81554.883453\n",
      "mb_used        281.901844\n",
      "messages      2407.883161\n",
      "user_pays        0.000000\n",
      "dtype: float64\n",
      "duration     285.578156\n",
      "mb_used       16.789933\n",
      "messages      49.070186\n",
      "user_pays      0.000000\n",
      "dtype: float64\n",
      "duration     415.39\n",
      "mb_used       44.00\n",
      "messages      28.50\n",
      "user_pays    550.00\n",
      "dtype: float64\n",
      "duration     22883.670708\n",
      "mb_used        113.133553\n",
      "messages       782.354957\n",
      "user_pays    38968.244981\n",
      "dtype: float64\n",
      "duration     151.273496\n",
      "mb_used       10.636426\n",
      "messages      27.970609\n",
      "user_pays    197.403761\n",
      "dtype: float64\n"
     ]
    }
   ],
   "source": [
    "median_found.dropna(subset=['duration'], inplace=True)\n",
    "ultra = median_found[median_found['tariff'] == 'ultra']\n",
    "smart = median_found[median_found['tariff'] == 'smart']\n",
    "print(ultra.median()) # медиана\n",
    "print(np.var(ultra)) # дисперсия по выборке\n",
    "print(np.std(ultra)) # стандартное отклонение по выборке\n",
    "print(smart.median()) # медиана\n",
    "print(np.var(smart)) # дисперсия по выборке\n",
    "print(np.std(smart)) # стандартное отклонение по выборке"
   ]
  },
  {
   "cell_type": "markdown",
   "metadata": {},
   "source": [
    "По всем пораметрам тариф Ультра обгоняет своего конкурента. Медиана смещена в большую сторону. Так же он имеет большую дисперсию. "
   ]
  },
  {
   "cell_type": "code",
   "execution_count": 15,
   "metadata": {},
   "outputs": [
    {
     "data": {
      "image/png": "[encoded data removed]",
      "text/plain": [
       "<Figure size 432x288 with 1 Axes>"
      ]
     },
     "metadata": {
      "needs_background": "light"
     },
     "output_type": "display_data"
    }
   ],
   "source": [
    "plt.title('количество минут ')\n",
    "x = ultra['duration']  \n",
    "y = smart['duration']\n",
    "\n",
    "plt.hist(x, bins = 30, alpha=0.5, label='ultra')\n",
    "plt.hist(y, bins = 30, alpha=0.5, label='smart')\n",
    "plt.show()"
   ]
  },
  {
   "cell_type": "code",
   "execution_count": 16,
   "metadata": {
    "scrolled": true
   },
   "outputs": [
    {
     "data": {
      "image/png": "[encoded data removed]",
      "text/plain": [
       "<Figure size 432x288 with 1 Axes>"
      ]
     },
     "metadata": {
      "needs_background": "light"
     },
     "output_type": "display_data"
    }
   ],
   "source": [
    "plt.title('количество мегобайт ')\n",
    "x = ultra['mb_used']  \n",
    "y = smart['mb_used']\n",
    "\n",
    "plt.hist(x, bins = 30, alpha=0.5, label='ultra')\n",
    "plt.hist(y, bins = 30, alpha=0.5, label='smart')\n",
    "plt.show()"
   ]
  },
  {
   "cell_type": "code",
   "execution_count": 17,
   "metadata": {},
   "outputs": [
    {
     "data": {
      "image/png": "[encoded data removed]",
      "text/plain": [
       "<Figure size 432x288 with 1 Axes>"
      ]
     },
     "metadata": {
      "needs_background": "light"
     },
     "output_type": "display_data"
    }
   ],
   "source": [
    "plt.title('количество сообщений ')\n",
    "x = ultra['messages']  \n",
    "y = smart['messages']\n",
    "\n",
    "plt.hist(x, bins = 30, alpha=0.5, label='ultra')\n",
    "plt.hist(y, bins = 30, alpha=0.5, label='smart')\n",
    "plt.show()"
   ]
  },
  {
   "cell_type": "markdown",
   "metadata": {},
   "source": [
    "Более дешовый тариф имеет больше выбросов. Мне кажется люди покупая дешовый тариф пытаются не выходить за рамки пакета, а в дорогом им без разницы. потому что очень сложно потратить весь пакет."
   ]
  },
  {
   "cell_type": "markdown",
   "metadata": {},
   "source": [
    "## Шаг 4. Проверка гипотез"
   ]
  },
  {
   "cell_type": "markdown",
   "metadata": {},
   "source": [
    "***Мы проверяем гипотезу о равенстве средних двух независимых совокупностей среднее колличество потраченных денег в 2х тарифах ultra и smart***\n",
    "- H1 = колличество потраченных денег в 2х тарифах ultra и smart равна\n",
    "- H0 = колличество потраченных денег в 2х тарифах ultra и smart различны"
   ]
  },
  {
   "cell_type": "code",
   "execution_count": 18,
   "metadata": {},
   "outputs": [
    {
     "name": "stdout",
     "output_type": "stream",
     "text": [
      "p-значение: 5.777676548056522e-284\n",
      "Отвергаем нулевую гипотезу\n"
     ]
    }
   ],
   "source": [
    "ult = ultra['user_pays']\n",
    "smt = smart['user_pays']\n",
    "\n",
    "\n",
    "alpha = .05\n",
    "\n",
    "results = st.ttest_ind( \n",
    "   ult, \n",
    "    smt)  \n",
    "\n",
    "print('p-значение:', results.pvalue)\n",
    "\n",
    "if results.pvalue < alpha:\n",
    "    print(\"Отвергаем нулевую гипотезу\")\n",
    "else:\n",
    "    print(\"Не получилось отвергнуть нулевую гипотезу\")"
   ]
  },
  {
   "cell_type": "code",
   "execution_count": 19,
   "metadata": {},
   "outputs": [
    {
     "name": "stdout",
     "output_type": "stream",
     "text": [
      "1950.0\n",
      "550.0 \n",
      "\n",
      "0.0\n",
      "38968.24498108347 \n",
      "\n",
      "0.0\n",
      "197.40376131442753\n"
     ]
    }
   ],
   "source": [
    "print(ult.median())\n",
    "print(smt.median(),'\\n')\n",
    "print(np.var(ult)) # дисперсия по выборке\n",
    "print(np.var(smt),'\\n') # дисперсия по выборке\n",
    "print(np.std(ult)) # стандартное отклонение по выборке\n",
    "print(np.std(smt)) # стандартное отклонение по выборке"
   ]
  },
  {
   "cell_type": "code",
   "execution_count": 20,
   "metadata": {},
   "outputs": [
    {
     "data": {
      "image/png": "[encoded data removed]",
      "text/plain": [
       "<Figure size 432x288 with 1 Axes>"
      ]
     },
     "metadata": {
      "needs_background": "light"
     },
     "output_type": "display_data"
    }
   ],
   "source": [
    "plt.title('средняя цена тарифа ')\n",
    "x = ult  \n",
    "y = smt\n",
    "\n",
    "plt.hist(y, alpha=0.5, label='ultra')\n",
    "plt.hist(x, alpha=0.5, label='smart')\n",
    "plt.show()"
   ]
  },
  {
   "cell_type": "markdown",
   "metadata": {},
   "source": [
    "Среднее значение отличавется почти в 4 раза. Однозначно можно сказать, что тариф ульра более выгоден компании."
   ]
  },
  {
   "cell_type": "markdown",
   "metadata": {},
   "source": [
    "***Мы проверяем гипотезу о равенстве средних двух независимых совокупностей среднее колличество потраченных денег пользователями Москвы и остальных городов***\n",
    "- H0 = среднее колличество потраченных денег пользователями Москвы и остальных городов равно \n",
    "- H1 = среднее колличество потраченных денег пользователями Москвы и остальных городов отличается"
   ]
  },
  {
   "cell_type": "code",
   "execution_count": 21,
   "metadata": {},
   "outputs": [
    {
     "name": "stdout",
     "output_type": "stream",
     "text": [
      "p-значение: 0.001319292563351182\n",
      "Отвергаем нулевую гипотезу\n"
     ]
    }
   ],
   "source": [
    "for user in final_data.index:\n",
    "    final_data.loc[user, 'city'] = users.loc[user[0]-1000, 'city']\n",
    "    \n",
    "moscow = final_data.query('city == \"Москва\"')['user_pays']\n",
    "other = final_data.query('city != \"Москва\"')['user_pays']\n",
    "\n",
    "alpha = .05\n",
    "\n",
    "results = st.ttest_ind(\n",
    "    moscow, \n",
    "    other)\n",
    "\n",
    "print('p-значение:', results.pvalue)\n",
    "\n",
    "if results.pvalue < alpha:\n",
    "    print(\"Отвергаем нулевую гипотезу\")\n",
    "else:\n",
    "    print(\"Не получилось отвергнуть нулевую гипотезу\")"
   ]
  },
  {
   "cell_type": "code",
   "execution_count": 22,
   "metadata": {},
   "outputs": [
    {
     "name": "stdout",
     "output_type": "stream",
     "text": [
      "697.0\n",
      "634.0 \n",
      "\n",
      "418076.5091932095\n",
      "379398.21494777396 \n",
      "\n",
      "646.5883614736732\n",
      "615.9530947627213\n"
     ]
    }
   ],
   "source": [
    "print(moscow.median())\n",
    "print(other.median(),'\\n')\n",
    "print(np.var(moscow)) # дисперсия по выборке\n",
    "print(np.var(other),'\\n') # дисперсия по выборке\n",
    "print(np.std(moscow)) # стандартное отклонение по выборке\n",
    "print(np.std(other)) # стандартное отклонение по выборке"
   ]
  },
  {
   "cell_type": "code",
   "execution_count": 23,
   "metadata": {},
   "outputs": [
    {
     "data": {
      "image/png": "[encoded data removed]",
      "text/plain": [
       "<Figure size 432x288 with 1 Axes>"
      ]
     },
     "metadata": {
      "needs_background": "light"
     },
     "output_type": "display_data"
    }
   ],
   "source": [
    "plt.title('средняя выручка ')\n",
    "x = moscow  \n",
    "y = other\n",
    "\n",
    "plt.hist(x, alpha=0.5, label='moscow')\n",
    "plt.hist(y, alpha=0.5, label='other')\n",
    "plt.show()"
   ]
  },
  {
   "cell_type": "markdown",
   "metadata": {},
   "source": [
    "Средняя выручка пользователей из Москвы отличается от выручки пользователей из других регионов. Так как мы отвергаем нулевую гипотезу. \n",
    "Мне кажется различие не такое большое.\n",
    "В обоих случаях я  спользовал гипотезу о равенстве средних двух генеральных совокупностей"
   ]
  },
  {
   "cell_type": "markdown",
   "metadata": {},
   "source": [
    "## Шаг 5. Общий вывод"
   ]
  },
  {
   "cell_type": "markdown",
   "metadata": {},
   "source": [
    "Тариф ультра приносит больше чем смарт примерно в 4 раза 1950 против 556 рублей.\n",
    "В Москве люди тратят на связь примерно столько же сколько и в регионах. \n",
    "Пользователи тарифа ультра не успевают использовать весь пакет, а вот абоненты пользующиеся тарифом смарт наоборот почти все покупают доп услуги. \n",
    "\n",
    "\n"
   ]
  },
  {
   "cell_type": "markdown",
   "metadata": {},
   "source": [
    "***Ребятам из отдела маркетинга можно порекомендовать продвигать тариф ультра)***"
   ]
  }
 ],
 "metadata": {
  "kernelspec": {
   "display_name": "Python 3",
   "language": "python",
   "name": "python3"
  },
  "language_info": {
   "codemirror_mode": {
    "name": "ipython",
    "version": 3
   },
   "file_extension": ".py",
   "mimetype": "text/x-python",
   "name": "python",
   "nbconvert_exporter": "python",
   "pygments_lexer": "ipython3",
   "version": "3.7.8"
  },
  "toc": {
   "base_numbering": 1,
   "nav_menu": {},
   "number_sections": true,
   "sideBar": true,
   "skip_h1_title": true,
   "title_cell": "Table of Contents",
   "title_sidebar": "Contents",
   "toc_cell": false,
   "toc_position": {},
   "toc_section_display": true,
   "toc_window_display": false
  }
 },
 "nbformat": 4,
 "nbformat_minor": 2
}
